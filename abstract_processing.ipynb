{
 "cells": [
  {
   "cell_type": "code",
   "execution_count": 1,
   "metadata": {},
   "outputs": [],
   "source": [
    "import pandas as pd"
   ]
  },
  {
   "cell_type": "code",
   "execution_count": 2,
   "metadata": {},
   "outputs": [],
   "source": [
    "import re\n",
    "import numpy as np\n",
    "import pandas as pd\n",
    "from pprint import pprint\n"
   ]
  },
  {
   "cell_type": "code",
   "execution_count": 3,
   "metadata": {},
   "outputs": [],
   "source": [
    "import gensim\n",
    "import gensim.corpora as corpora\n",
    "from gensim.utils import simple_preprocess\n",
    "from gensim.models import CoherenceModel"
   ]
  },
  {
   "cell_type": "code",
   "execution_count": 4,
   "metadata": {},
   "outputs": [],
   "source": [
    "import spacy\n",
    "import nltk"
   ]
  },
  {
   "cell_type": "code",
   "execution_count": 5,
   "metadata": {},
   "outputs": [],
   "source": [
    "import pyLDAvis\n",
    "import pyLDAvis.gensim\n",
    "import matplotlib.pyplot as plt"
   ]
  },
  {
   "cell_type": "code",
   "execution_count": 6,
   "metadata": {},
   "outputs": [],
   "source": [
    "# Enable logging for gensim - optional\n",
    "import logging\n",
    "logging.basicConfig(format='%(asctime)s : %(levelname)s : %(message)s', level=logging.ERROR)\n",
    "\n",
    "import warnings\n",
    "warnings.filterwarnings(\"ignore\",category=DeprecationWarning)"
   ]
  },
  {
   "cell_type": "code",
   "execution_count": 7,
   "metadata": {},
   "outputs": [
    {
     "name": "stderr",
     "output_type": "stream",
     "text": [
      "[nltk_data] Downloading package stopwords to\n",
      "[nltk_data]     C:\\Users\\liuyi\\AppData\\Roaming\\nltk_data...\n",
      "[nltk_data]   Package stopwords is already up-to-date!\n"
     ]
    }
   ],
   "source": [
    "from nltk.corpus import stopwords\n",
    "nltk.download('stopwords')\n",
    "stop_words = stopwords.words('english')"
   ]
  },
  {
   "cell_type": "code",
   "execution_count": 8,
   "metadata": {},
   "outputs": [
    {
     "data": {
      "text/plain": [
       "True"
      ]
     },
     "execution_count": 8,
     "metadata": {},
     "output_type": "execute_result"
    }
   ],
   "source": [
    "'is' in stop_words"
   ]
  },
  {
   "cell_type": "code",
   "execution_count": 9,
   "metadata": {},
   "outputs": [],
   "source": [
    "df = pd.read_csv('start_db.csv')"
   ]
  },
  {
   "cell_type": "code",
   "execution_count": 10,
   "metadata": {},
   "outputs": [],
   "source": [
    "data = df.abstract.values.tolist()"
   ]
  },
  {
   "cell_type": "code",
   "execution_count": 11,
   "metadata": {},
   "outputs": [
    {
     "data": {
      "text/plain": [
       "'Two flexible subcomponents, namely tris(4-formylphenyl)phosphate and tris(2-aminoethyl)amine, are assembled into a tetrapodal [4\\u2009+\\u20094] cage depending on the solvent effect. Single-crystal structure analysis reveals that the caivity is surrounded by four phosphate uints. Good selectivity of CO2 adsorption over CH4 is demonstrated by the gas adsorption experiment.'"
      ]
     },
     "execution_count": 11,
     "metadata": {},
     "output_type": "execute_result"
    }
   ],
   "source": [
    "data[0]"
   ]
  },
  {
   "cell_type": "code",
   "execution_count": 12,
   "metadata": {},
   "outputs": [],
   "source": [
    "def sent_to_words(sentences):\n",
    "    for sentence in sentences:\n",
    "        yield(gensim.utils.simple_preprocess(str(sentence), deacc=True))\n",
    "data_words = list(sent_to_words(data))"
   ]
  },
  {
   "cell_type": "code",
   "execution_count": 13,
   "metadata": {},
   "outputs": [
    {
     "name": "stdout",
     "output_type": "stream",
     "text": [
      "['two', 'flexible', 'subcomponents', 'namely', 'tris', 'formylphenyl', 'phosphate', 'and', 'tris', 'aminoethyl', 'amine', 'are', 'assembled', 'into', 'tetrapodal', 'cage', 'depending', 'on', 'the', 'solvent', 'effect', 'single', 'crystal', 'structure', 'analysis', 'reveals', 'that', 'the', 'caivity', 'is', 'surrounded', 'by', 'four', 'phosphate', 'uints', 'good', 'selectivity', 'of', 'co', 'adsorption', 'over', 'ch', 'is', 'demonstrated', 'by', 'the', 'gas', 'adsorption', 'experiment']\n"
     ]
    }
   ],
   "source": [
    "bigram = gensim.models.Phrases(data_words, min_count=5, threshold=100) # higher threshold fewer phrases.\n",
    "trigram = gensim.models.Phrases(bigram[data_words], threshold=100)  \n",
    "\n",
    "# Faster way to get a sentence clubbed as a trigram/bigram\n",
    "bigram_mod = gensim.models.phrases.Phraser(bigram)\n",
    "trigram_mod = gensim.models.phrases.Phraser(trigram)\n",
    "\n",
    "# See trigram example\n",
    "print(trigram_mod[bigram_mod[data_words[0]]])"
   ]
  },
  {
   "cell_type": "code",
   "execution_count": 14,
   "metadata": {},
   "outputs": [],
   "source": [
    "def remove_stopwords(texts):\n",
    "    return [[word for word in simple_preprocess(str(doc)) if word not in stop_words] for doc in texts]\n",
    "\n",
    "def make_bigrams(texts):\n",
    "    return [bigram_mod[doc] for doc in texts]\n",
    "\n",
    "def make_trigrams(texts):\n",
    "    return [trigram_mod[bigram_mod[doc]] for doc in texts]\n",
    "\n",
    "def lemmatization(texts, allowed_postags=['NOUN', 'ADJ', 'VERB', 'ADV']):\n",
    "    \"\"\"https://spacy.io/api/annotation\"\"\"\n",
    "    texts_out = []\n",
    "    for sent in texts:\n",
    "        doc = nlp(\" \".join(sent)) \n",
    "        texts_out.append([token.lemma_ for token in doc if token.pos_ in allowed_postags])\n",
    "    return texts_out"
   ]
  },
  {
   "cell_type": "code",
   "execution_count": 15,
   "metadata": {},
   "outputs": [],
   "source": [
    "data_words_nostops = remove_stopwords(data_words)\n",
    "data_words_bigrams = make_bigrams(data_words_nostops)\n"
   ]
  },
  {
   "cell_type": "code",
   "execution_count": 16,
   "metadata": {
    "collapsed": true
   },
   "outputs": [
    {
     "name": "stdout",
     "output_type": "stream",
     "text": [
      "Requirement already satisfied: en_core_web_sm==2.3.0 from https://github.com/explosion/spacy-models/releases/download/en_core_web_sm-2.3.0/en_core_web_sm-2.3.0.tar.gz#egg=en_core_web_sm==2.3.0 in c:\\users\\liuyi\\anaconda3\\envs\\my_py_env\\lib\\site-packages (2.3.0)\n",
      "Requirement already satisfied: spacy<2.4.0,>=2.3.0 in c:\\users\\liuyi\\anaconda3\\envs\\my_py_env\\lib\\site-packages (from en_core_web_sm==2.3.0) (2.3.0)\n",
      "Requirement already satisfied: srsly<1.1.0,>=1.0.2 in c:\\users\\liuyi\\anaconda3\\envs\\my_py_env\\lib\\site-packages (from spacy<2.4.0,>=2.3.0->en_core_web_sm==2.3.0) (1.0.2)\n",
      "Requirement already satisfied: setuptools in c:\\users\\liuyi\\anaconda3\\envs\\my_py_env\\lib\\site-packages (from spacy<2.4.0,>=2.3.0->en_core_web_sm==2.3.0) (46.0.0.post20200309)\n",
      "Requirement already satisfied: thinc==7.4.1 in c:\\users\\liuyi\\anaconda3\\envs\\my_py_env\\lib\\site-packages (from spacy<2.4.0,>=2.3.0->en_core_web_sm==2.3.0) (7.4.1)\n",
      "Requirement already satisfied: catalogue<1.1.0,>=0.0.7 in c:\\users\\liuyi\\anaconda3\\envs\\my_py_env\\lib\\site-packages (from spacy<2.4.0,>=2.3.0->en_core_web_sm==2.3.0) (1.0.0)\n",
      "Requirement already satisfied: plac<1.2.0,>=0.9.6 in c:\\users\\liuyi\\anaconda3\\envs\\my_py_env\\lib\\site-packages (from spacy<2.4.0,>=2.3.0->en_core_web_sm==2.3.0) (0.9.6)\n",
      "Requirement already satisfied: murmurhash<1.1.0,>=0.28.0 in c:\\users\\liuyi\\anaconda3\\envs\\my_py_env\\lib\\site-packages (from spacy<2.4.0,>=2.3.0->en_core_web_sm==2.3.0) (1.0.0)\n",
      "Requirement already satisfied: tqdm<5.0.0,>=4.38.0 in c:\\users\\liuyi\\anaconda3\\envs\\my_py_env\\lib\\site-packages (from spacy<2.4.0,>=2.3.0->en_core_web_sm==2.3.0) (4.47.0)\n",
      "Requirement already satisfied: blis<0.5.0,>=0.4.0 in c:\\users\\liuyi\\anaconda3\\envs\\my_py_env\\lib\\site-packages (from spacy<2.4.0,>=2.3.0->en_core_web_sm==2.3.0) (0.4.1)\n",
      "Requirement already satisfied: numpy>=1.15.0 in c:\\users\\liuyi\\anaconda3\\envs\\my_py_env\\lib\\site-packages (from spacy<2.4.0,>=2.3.0->en_core_web_sm==2.3.0) (1.18.1)\n",
      "Requirement already satisfied: cymem<2.1.0,>=2.0.2 in c:\\users\\liuyi\\anaconda3\\envs\\my_py_env\\lib\\site-packages (from spacy<2.4.0,>=2.3.0->en_core_web_sm==2.3.0) (2.0.3)\n",
      "Requirement already satisfied: wasabi<1.1.0,>=0.4.0 in c:\\users\\liuyi\\anaconda3\\envs\\my_py_env\\lib\\site-packages (from spacy<2.4.0,>=2.3.0->en_core_web_sm==2.3.0) (0.7.0)\n",
      "Requirement already satisfied: preshed<3.1.0,>=3.0.2 in c:\\users\\liuyi\\anaconda3\\envs\\my_py_env\\lib\\site-packages (from spacy<2.4.0,>=2.3.0->en_core_web_sm==2.3.0) (3.0.2)\n",
      "Requirement already satisfied: requests<3.0.0,>=2.13.0 in c:\\users\\liuyi\\anaconda3\\envs\\my_py_env\\lib\\site-packages (from spacy<2.4.0,>=2.3.0->en_core_web_sm==2.3.0) (2.24.0)\n",
      "Requirement already satisfied: importlib-metadata>=0.20; python_version < \"3.8\" in c:\\users\\liuyi\\anaconda3\\envs\\my_py_env\\lib\\site-packages (from catalogue<1.1.0,>=0.0.7->spacy<2.4.0,>=2.3.0->en_core_web_sm==2.3.0) (1.7.0)\n",
      "Requirement already satisfied: urllib3!=1.25.0,!=1.25.1,<1.26,>=1.21.1 in c:\\users\\liuyi\\anaconda3\\envs\\my_py_env\\lib\\site-packages (from requests<3.0.0,>=2.13.0->spacy<2.4.0,>=2.3.0->en_core_web_sm==2.3.0) (1.25.9)\n",
      "Requirement already satisfied: chardet<4,>=3.0.2 in c:\\users\\liuyi\\anaconda3\\envs\\my_py_env\\lib\\site-packages (from requests<3.0.0,>=2.13.0->spacy<2.4.0,>=2.3.0->en_core_web_sm==2.3.0) (3.0.4)\n",
      "Requirement already satisfied: certifi>=2017.4.17 in c:\\users\\liuyi\\anaconda3\\envs\\my_py_env\\lib\\site-packages (from requests<3.0.0,>=2.13.0->spacy<2.4.0,>=2.3.0->en_core_web_sm==2.3.0) (2020.6.20)\n",
      "Requirement already satisfied: idna<3,>=2.5 in c:\\users\\liuyi\\anaconda3\\envs\\my_py_env\\lib\\site-packages (from requests<3.0.0,>=2.13.0->spacy<2.4.0,>=2.3.0->en_core_web_sm==2.3.0) (2.10)\n",
      "Requirement already satisfied: zipp>=0.5 in c:\\users\\liuyi\\anaconda3\\envs\\my_py_env\\lib\\site-packages (from importlib-metadata>=0.20; python_version < \"3.8\"->catalogue<1.1.0,>=0.0.7->spacy<2.4.0,>=2.3.0->en_core_web_sm==2.3.0) (3.1.0)\n",
      "symbolic link created for C:\\Users\\liuyi\\Anaconda3\\envs\\my_py_env\\lib\\site-packages\\spacy\\data\\en <<===>> C:\\Users\\liuyi\\Anaconda3\\envs\\my_py_env\\lib\\site-packages\\en_core_web_sm\n",
      "[+] Download and installation successful\n",
      "You can now load the model via spacy.load('en_core_web_sm')\n",
      "[+] Linking successful\n",
      "C:\\Users\\liuyi\\Anaconda3\\envs\\my_py_env\\lib\\site-packages\\en_core_web_sm -->\n",
      "C:\\Users\\liuyi\\Anaconda3\\envs\\my_py_env\\lib\\site-packages\\spacy\\data\\en\n",
      "You can now load the model via spacy.load('en')\n"
     ]
    }
   ],
   "source": [
    "import sys\n",
    "!{sys.executable} -m spacy download en"
   ]
  },
  {
   "cell_type": "code",
   "execution_count": 17,
   "metadata": {},
   "outputs": [],
   "source": [
    "nlp = spacy.load('en', disable=['parser', 'ner'])"
   ]
  },
  {
   "cell_type": "code",
   "execution_count": 18,
   "metadata": {},
   "outputs": [],
   "source": [
    "data_lemmatized = lemmatization(data_words_bigrams, allowed_postags=['NOUN', 'ADJ', 'VERB', 'ADV'])"
   ]
  },
  {
   "cell_type": "code",
   "execution_count": 42,
   "metadata": {
    "collapsed": true
   },
   "outputs": [
    {
     "data": {
      "text/plain": [
       "['flexible',\n",
       " 'subcomponent',\n",
       " 'namely',\n",
       " 'aminoethyl',\n",
       " 'assemble',\n",
       " 'cage',\n",
       " 'depend',\n",
       " 'solvent',\n",
       " 'effect',\n",
       " 'single',\n",
       " 'crystal',\n",
       " 'structure',\n",
       " 'analysis',\n",
       " 'reveal',\n",
       " 'caivity',\n",
       " 'surround',\n",
       " 'phosphate',\n",
       " 'good',\n",
       " 'selectivity',\n",
       " 'co',\n",
       " 'adsorption',\n",
       " 'demonstrate',\n",
       " 'gas',\n",
       " 'experiment']"
      ]
     },
     "execution_count": 42,
     "metadata": {},
     "output_type": "execute_result"
    }
   ],
   "source": [
    "data_lemmatized[0]"
   ]
  },
  {
   "cell_type": "code",
   "execution_count": 19,
   "metadata": {},
   "outputs": [],
   "source": [
    "id2word = corpora.Dictionary(data_lemmatized)"
   ]
  },
  {
   "cell_type": "code",
   "execution_count": 20,
   "metadata": {},
   "outputs": [
    {
     "name": "stdout",
     "output_type": "stream",
     "text": [
      "[[(0, 1), (1, 1), (2, 1), (3, 1), (4, 1), (5, 1), (6, 1), (7, 1), (8, 1), (9, 1), (10, 1), (11, 1), (12, 1), (13, 1), (14, 1), (15, 1), (16, 1), (17, 1), (18, 1), (19, 1), (20, 1), (21, 1), (22, 1), (23, 1)]]\n"
     ]
    }
   ],
   "source": [
    "texts = data_lemmatized\n",
    "corpus = [id2word.doc2bow(text) for text in texts]\n",
    "print(corpus[:1])"
   ]
  },
  {
   "cell_type": "code",
   "execution_count": 21,
   "metadata": {},
   "outputs": [],
   "source": [
    "lda_model = gensim.models.ldamodel.LdaModel(corpus=corpus,\n",
    "                                           id2word=id2word,\n",
    "                                           num_topics=3, \n",
    "                                           random_state=100,\n",
    "                                           update_every=1,\n",
    "                                           chunksize=100,\n",
    "                                           passes=10,\n",
    "                                           alpha='auto',\n",
    "                                           per_word_topics=True)"
   ]
  },
  {
   "cell_type": "code",
   "execution_count": 22,
   "metadata": {},
   "outputs": [
    {
     "name": "stdout",
     "output_type": "stream",
     "text": [
      "[(0,\n",
      "  '0.025*\"polymer\" + 0.023*\"swnt\" + 0.015*\"high\" + 0.013*\"synthesis\" + '\n",
      "  '0.010*\"conjugate\" + 0.008*\"demonstrate\" + 0.008*\"approach\" + 0.008*\"yield\" '\n",
      "  '+ 0.008*\"condition\" + 0.008*\"use\"'),\n",
      " (1,\n",
      "  '0.020*\"macrocycle\" + 0.012*\"polymer\" + 0.012*\"cage\" + 0.009*\"formation\" + '\n",
      "  '0.009*\"synthesis\" + 0.008*\"crystal\" + 0.008*\"show\" + 0.007*\"material\" + '\n",
      "  '0.006*\"imine\" + 0.006*\"group\"'),\n",
      " (2,\n",
      "  '0.013*\"cage\" + 0.013*\"material\" + 0.011*\"imine\" + 0.010*\"precursor\" + '\n",
      "  '0.010*\"assembly\" + 0.010*\"geometry\" + 0.010*\"link\" + 0.009*\"porous\" + '\n",
      "  '0.008*\"high\" + 0.008*\"organic\"')]\n"
     ]
    }
   ],
   "source": [
    "pprint(lda_model.print_topics())\n",
    "doc_lda = lda_model[corpus]"
   ]
  },
  {
   "cell_type": "code",
   "execution_count": 41,
   "metadata": {},
   "outputs": [
    {
     "data": {
      "text/plain": [
       "19"
      ]
     },
     "execution_count": 41,
     "metadata": {},
     "output_type": "execute_result"
    }
   ],
   "source": [
    "len(doc_lda)"
   ]
  },
  {
   "cell_type": "code",
   "execution_count": 48,
   "metadata": {},
   "outputs": [
    {
     "ename": "TypeError",
     "evalue": "'<' not supported between instances of 'tuple' and 'int'",
     "output_type": "error",
     "traceback": [
      "\u001b[1;31m---------------------------------------------------------------------------\u001b[0m",
      "\u001b[1;31mTypeError\u001b[0m                                 Traceback (most recent call last)",
      "\u001b[1;32m<ipython-input-48-92b601e4a020>\u001b[0m in \u001b[0;36m<module>\u001b[1;34m\u001b[0m\n\u001b[0;32m      1\u001b[0m \u001b[1;32mfor\u001b[0m \u001b[0mi\u001b[0m\u001b[1;33m,\u001b[0m \u001b[0mrow\u001b[0m \u001b[1;32min\u001b[0m \u001b[0menumerate\u001b[0m\u001b[1;33m(\u001b[0m\u001b[0mdoc_lda\u001b[0m\u001b[1;33m)\u001b[0m\u001b[1;33m:\u001b[0m\u001b[1;33m\u001b[0m\u001b[1;33m\u001b[0m\u001b[0m\n\u001b[1;32m----> 2\u001b[1;33m     \u001b[0mr\u001b[0m \u001b[1;33m=\u001b[0m \u001b[0msorted\u001b[0m\u001b[1;33m(\u001b[0m\u001b[0mrow\u001b[0m\u001b[1;33m)\u001b[0m\u001b[1;33m\u001b[0m\u001b[1;33m\u001b[0m\u001b[0m\n\u001b[0m",
      "\u001b[1;31mTypeError\u001b[0m: '<' not supported between instances of 'tuple' and 'int'"
     ]
    }
   ],
   "source": [
    "for i, row in enumerate(doc_lda):\n",
    "    r = sorted(row)"
   ]
  },
  {
   "cell_type": "code",
   "execution_count": 23,
   "metadata": {},
   "outputs": [
    {
     "name": "stdout",
     "output_type": "stream",
     "text": [
      "\n",
      "Perplexity:  -6.456093171717518\n"
     ]
    }
   ],
   "source": [
    "print('\\nPerplexity: ', lda_model.log_perplexity(corpus)) "
   ]
  },
  {
   "cell_type": "code",
   "execution_count": 24,
   "metadata": {},
   "outputs": [],
   "source": [
    "coherence_model_lda = CoherenceModel(model=lda_model, texts=data_lemmatized, dictionary=id2word,coherence='c_v')\n",
    "coherence_lda = coherence_model_lda.get_coherence()"
   ]
  },
  {
   "cell_type": "code",
   "execution_count": 25,
   "metadata": {},
   "outputs": [
    {
     "data": {
      "text/plain": [
       "0.4129310809353775"
      ]
     },
     "execution_count": 25,
     "metadata": {},
     "output_type": "execute_result"
    }
   ],
   "source": [
    "coherence_lda"
   ]
  },
  {
   "cell_type": "code",
   "execution_count": 26,
   "metadata": {},
   "outputs": [
    {
     "data": {
      "text/html": [
       "\n",
       "<link rel=\"stylesheet\" type=\"text/css\" href=\"https://cdn.rawgit.com/bmabey/pyLDAvis/files/ldavis.v1.0.0.css\">\n",
       "\n",
       "\n",
       "<div id=\"ldavis_el1388413999471913685584215164\"></div>\n",
       "<script type=\"text/javascript\">\n",
       "\n",
       "var ldavis_el1388413999471913685584215164_data = {\"mdsDat\": {\"x\": [-0.05108002756252151, -0.04788655003851713, 0.0989665776010386], \"y\": [0.07844306762770432, -0.0801488956029715, 0.0017058279752671843], \"topics\": [1, 2, 3], \"cluster\": [1, 1, 1], \"Freq\": [44.81451416015625, 34.55137252807617, 20.634113311767578]}, \"tinfo\": {\"Term\": [\"swnt\", \"polymer\", \"high\", \"conjugate\", \"macrocycle\", \"geometry\", \"yield\", \"cost\", \"contamination\", \"demonstrate\", \"approach\", \"condition\", \"use\", \"synthesis\", \"unit\", \"dope\", \"precursor\", \"material\", \"link\", \"assembly\", \"hemicarcerand\", \"copper\", \"aqueous\", \"isolation\", \"separation\", \"report\", \"little\", \"time\", \"perform\", \"large\", \"form\", \"side\", \"stack\", \"fluorescent\", \"discrete\", \"polymerization\", \"temperature\", \"computation\", \"framework\", \"highly\", \"thus\", \"thermal\", \"efficient\", \"solution\", \"give\", \"bear\", \"triphenylamine\", \"macrocyclic\", \"stm\", \"long\", \"due\", \"insoluble\", \"alkyl\", \"derive\", \"probe\", \"moiety\", \"mesogen\", \"clip\", \"correspond\", \"nature\", \"macrocycle\", \"crystal\", \"group\", \"show\", \"formation\", \"assemble\", \"experiment\", \"cage\", \"chain\", \"shape\", \"study\", \"polymer\", \"part\", \"new\", \"synthesis\", \"structure\", \"process\", \"catenane\", \"molecule\", \"material\", \"imine\", \"reaction\", \"base\", \"geometry\", \"unit\", \"dope\", \"application\", \"rigidity\", \"often\", \"result\", \"promising\", \"coordination\", \"include\", \"indicate\", \"least\", \"preparation\", \"heteroatom\", \"component\", \"precursor\", \"assembly\", \"link\", \"carbon\", \"indeed\", \"preorganization\", \"choice\", \"mass\", \"react\", \"environment\", \"number\", \"conformational\", \"synthesizing\", \"careful\", \"evidence\", \"porous\", \"interlock\", \"quality\", \"stable\", \"multiple\", \"method\", \"prepare\", \"bond\", \"material\", \"provide\", \"present\", \"organic\", \"imine\", \"cage\", \"area\", \"dimensional\", \"template\", \"high\", \"monomer\", \"covalent\", \"base\", \"formation\", \"macrocycle\", \"also\", \"supramolecular\", \"swnt\", \"conjugate\", \"yield\", \"cost\", \"contamination\", \"hemicarcerand\", \"copper\", \"aqueous\", \"isolation\", \"separation\", \"condition\", \"use\", \"sterically\", \"carceplexe\", \"dissociation\", \"response\", \"appear\", \"enough\", \"exemplify\", \"dimension\", \"change\", \"permit\", \"utility\", \"color\", \"constrictive\", \"ability\", \"inhibit\", \"draw\", \"modeling\", \"medium\", \"demonstrate\", \"high\", \"polymer\", \"approach\", \"time\", \"little\", \"perform\", \"large\", \"synthesis\", \"report\", \"simple\", \"selectivity\", \"single\", \"monomer\", \"imine\", \"cage\", \"bond\", \"pot\"], \"Freq\": [5.0, 13.0, 7.0, 2.0, 11.0, 3.0, 2.0, 2.0, 2.0, 2.0, 3.0, 2.0, 2.0, 8.0, 3.0, 3.0, 4.0, 8.0, 4.0, 4.0, 1.0, 1.0, 1.0, 1.0, 1.0, 3.0, 2.0, 2.0, 2.0, 2.0, 3.101531505584717, 3.1004109382629395, 3.0989930629730225, 2.388359308242798, 2.386863946914673, 2.3867268562316895, 2.3865432739257812, 2.3699445724487305, 1.6742069721221924, 1.6724631786346436, 1.6723252534866333, 1.672086238861084, 1.6718647480010986, 1.6718794107437134, 1.6718441247940063, 1.6717169284820557, 1.671388030052185, 1.6712563037872314, 1.671211838722229, 1.6710325479507446, 1.670831322669983, 1.6703705787658691, 1.6703659296035767, 1.6704217195510864, 1.6703331470489502, 1.670385718345642, 1.6703531742095947, 1.6699227094650269, 1.6701394319534302, 1.6698901653289795, 9.541501998901367, 3.8183252811431885, 3.103827953338623, 3.8179800510406494, 4.531083583831787, 2.3842885494232178, 2.379117012023926, 5.934966564178467, 2.3898544311523438, 2.3894755840301514, 2.38763165473938, 5.978971004486084, 2.3841497898101807, 2.382162094116211, 4.529923915863037, 2.3948004245758057, 2.3916852474212646, 2.3820650577545166, 2.3796498775482178, 3.1199424266815186, 3.115778923034668, 2.3830318450927734, 2.389336347579956, 3.5177454948425293, 2.8542535305023193, 2.8518471717834473, 2.1966495513916016, 1.539467453956604, 1.5391515493392944, 1.5381876230239868, 1.5373616218566895, 1.5365856885910034, 1.5362539291381836, 1.5367884635925293, 1.5364835262298584, 1.5360628366470337, 1.5360207557678223, 1.534063696861267, 3.536060333251953, 3.5193514823913574, 3.5171375274658203, 2.1954052448272705, 0.8801845908164978, 0.8800911903381348, 0.8800248503684998, 0.8798450231552124, 0.8800055384635925, 0.8797805905342102, 0.8799406886100769, 0.8799086213111877, 0.8798364996910095, 0.8798852562904358, 0.87969571352005, 3.5112059116363525, 2.2041194438934326, 2.1990835666656494, 2.197510004043579, 2.1974053382873535, 2.195457935333252, 2.193467378616333, 2.852159261703491, 4.828680515289307, 1.5379667282104492, 1.5378888845443726, 2.861314535140991, 4.174617767333984, 4.869727611541748, 2.1973507404327393, 2.19636607170105, 2.193892240524292, 2.8716073036193848, 2.197730302810669, 2.195866823196411, 2.1997148990631104, 2.202019691467285, 2.203075885772705, 1.5484850406646729, 1.5508641004562378, 4.9910969734191895, 2.3188085556030273, 1.7847269773483276, 1.782717227935791, 1.78155517578125, 1.2509615421295166, 1.2509480714797974, 1.2502222061157227, 1.249747633934021, 1.2469096183776855, 1.7844579219818115, 1.7836476564407349, 0.7148295044898987, 0.7148271203041077, 0.7148265838623047, 0.7148263454437256, 0.714826226234436, 0.7148242592811584, 0.7148237824440002, 0.7148236036300659, 0.7148231267929077, 0.7148227691650391, 0.7148223519325256, 0.714821457862854, 0.7148211598396301, 0.7148207426071167, 0.7148203253746033, 0.7148193120956421, 0.7148188948631287, 0.7148182988166809, 1.7851964235305786, 3.3888325691223145, 5.535410404205322, 1.7848604917526245, 1.2488092184066772, 1.2482609748840332, 1.2511283159255981, 1.249971866607666, 2.8689017295837402, 1.2542216777801514, 1.2520065307617188, 1.255170464515686, 1.2502412796020508, 1.2532811164855957, 1.255170226097107, 0.7295630574226379, 0.7221130132675171, 0.7210675477981567], \"Total\": [5.0, 13.0, 7.0, 2.0, 11.0, 3.0, 2.0, 2.0, 2.0, 2.0, 3.0, 2.0, 2.0, 8.0, 3.0, 3.0, 4.0, 8.0, 4.0, 4.0, 1.0, 1.0, 1.0, 1.0, 1.0, 3.0, 2.0, 2.0, 2.0, 2.0, 3.50742769241333, 3.50681734085083, 3.5064239501953125, 2.790134906768799, 2.789945125579834, 2.789879322052002, 2.789947271347046, 2.7885241508483887, 2.073361396789551, 2.072923421859741, 2.07292103767395, 2.0728633403778076, 2.072805404663086, 2.072887420654297, 2.072890281677246, 2.0728554725646973, 2.072694778442383, 2.072842597961426, 2.0728249549865723, 2.0726969242095947, 2.072568893432617, 2.0724594593048096, 2.0724704265594482, 2.072559356689453, 2.0725414752960205, 2.072638988494873, 2.072601318359375, 2.0722784996032715, 2.072573661804199, 2.0722694396972656, 11.943094253540039, 4.760514736175537, 4.1678147315979, 5.545479774475098, 6.922791481018066, 3.3259239196777344, 3.325289726257324, 11.534256935119629, 3.451005458831787, 3.4509904384613037, 3.4501736164093018, 13.063436508178711, 3.449221611022949, 3.4504950046539307, 8.942974090576172, 3.9881253242492676, 4.111575603485107, 4.110415935516357, 4.110722541809082, 8.133907318115234, 8.54556655883789, 4.646969318389893, 5.30842399597168, 3.9421520233154297, 3.2821805477142334, 3.282244920730591, 2.6207222938537598, 1.9598469734191895, 1.9598556756973267, 1.9599816799163818, 1.959939956665039, 1.959294319152832, 1.9594424962997437, 1.9601613283157349, 1.9602044820785522, 1.9598383903503418, 1.9601399898529053, 1.9595811367034912, 4.657891273498535, 4.657712459564209, 4.6597747802734375, 3.157562017440796, 1.299015998840332, 1.2990306615829468, 1.299021601676941, 1.298792839050293, 1.2990360260009766, 1.298779010772705, 1.2990269660949707, 1.299020767211914, 1.2989205121994019, 1.2990107536315918, 1.2987639904022217, 5.196588039398193, 3.3363523483276367, 3.3374123573303223, 3.3371567726135254, 3.3379969596862793, 3.338043689727783, 3.3379127979278564, 4.5338239669799805, 8.133907318115234, 2.4956016540527344, 2.4964585304260254, 5.2515058517456055, 8.54556655883789, 11.534256935119629, 4.055176258087158, 4.055095195770264, 4.05557107925415, 7.217714786529541, 4.410262107849121, 4.591338634490967, 5.30842399597168, 6.922791481018066, 11.943094253540039, 2.675867795944214, 3.3925554752349854, 5.467300891876221, 2.78407621383667, 2.24735164642334, 2.2478835582733154, 2.2482244968414307, 1.7105176448822021, 1.7105215787887573, 1.7107627391815186, 1.710860013961792, 1.7116420269012451, 2.9084105491638184, 2.908726453781128, 1.174349308013916, 1.1743500232696533, 1.1743497848510742, 1.1743502616882324, 1.1743502616882324, 1.174350619316101, 1.1743510961532593, 1.1743510961532593, 1.1743509769439697, 1.1743510961532593, 1.1743513345718384, 1.1743515729904175, 1.174351692199707, 1.1743519306182861, 1.1743519306182861, 1.1743519306182861, 1.1743519306182861, 1.1743518114089966, 2.9646711349487305, 7.217714786529541, 13.063436508178711, 3.569157123565674, 2.372073173522949, 2.3721213340759277, 2.427950143814087, 2.428255796432495, 8.942974090576172, 3.031491279602051, 3.088784694671631, 3.1441731452941895, 3.145855665206909, 4.410262107849121, 8.54556655883789, 11.534256935119629, 4.5338239669799805, 3.2681217193603516], \"Category\": [\"Default\", \"Default\", \"Default\", \"Default\", \"Default\", \"Default\", \"Default\", \"Default\", \"Default\", \"Default\", \"Default\", \"Default\", \"Default\", \"Default\", \"Default\", \"Default\", \"Default\", \"Default\", \"Default\", \"Default\", \"Default\", \"Default\", \"Default\", \"Default\", \"Default\", \"Default\", \"Default\", \"Default\", \"Default\", \"Default\", \"Topic1\", \"Topic1\", \"Topic1\", \"Topic1\", \"Topic1\", \"Topic1\", \"Topic1\", \"Topic1\", \"Topic1\", \"Topic1\", \"Topic1\", \"Topic1\", \"Topic1\", \"Topic1\", \"Topic1\", \"Topic1\", \"Topic1\", \"Topic1\", \"Topic1\", \"Topic1\", \"Topic1\", \"Topic1\", \"Topic1\", \"Topic1\", \"Topic1\", \"Topic1\", \"Topic1\", \"Topic1\", \"Topic1\", \"Topic1\", \"Topic1\", \"Topic1\", \"Topic1\", \"Topic1\", \"Topic1\", \"Topic1\", \"Topic1\", \"Topic1\", \"Topic1\", \"Topic1\", \"Topic1\", \"Topic1\", \"Topic1\", \"Topic1\", \"Topic1\", \"Topic1\", \"Topic1\", \"Topic1\", \"Topic1\", \"Topic1\", \"Topic1\", \"Topic1\", \"Topic1\", \"Topic2\", \"Topic2\", \"Topic2\", \"Topic2\", \"Topic2\", \"Topic2\", \"Topic2\", \"Topic2\", \"Topic2\", \"Topic2\", \"Topic2\", \"Topic2\", \"Topic2\", \"Topic2\", \"Topic2\", \"Topic2\", \"Topic2\", \"Topic2\", \"Topic2\", \"Topic2\", \"Topic2\", \"Topic2\", \"Topic2\", \"Topic2\", \"Topic2\", \"Topic2\", \"Topic2\", \"Topic2\", \"Topic2\", \"Topic2\", \"Topic2\", \"Topic2\", \"Topic2\", \"Topic2\", \"Topic2\", \"Topic2\", \"Topic2\", \"Topic2\", \"Topic2\", \"Topic2\", \"Topic2\", \"Topic2\", \"Topic2\", \"Topic2\", \"Topic2\", \"Topic2\", \"Topic2\", \"Topic2\", \"Topic2\", \"Topic2\", \"Topic2\", \"Topic2\", \"Topic2\", \"Topic2\", \"Topic2\", \"Topic3\", \"Topic3\", \"Topic3\", \"Topic3\", \"Topic3\", \"Topic3\", \"Topic3\", \"Topic3\", \"Topic3\", \"Topic3\", \"Topic3\", \"Topic3\", \"Topic3\", \"Topic3\", \"Topic3\", \"Topic3\", \"Topic3\", \"Topic3\", \"Topic3\", \"Topic3\", \"Topic3\", \"Topic3\", \"Topic3\", \"Topic3\", \"Topic3\", \"Topic3\", \"Topic3\", \"Topic3\", \"Topic3\", \"Topic3\", \"Topic3\", \"Topic3\", \"Topic3\", \"Topic3\", \"Topic3\", \"Topic3\", \"Topic3\", \"Topic3\", \"Topic3\", \"Topic3\", \"Topic3\", \"Topic3\", \"Topic3\", \"Topic3\", \"Topic3\", \"Topic3\", \"Topic3\", \"Topic3\"], \"logprob\": [30.0, 29.0, 28.0, 27.0, 26.0, 25.0, 24.0, 23.0, 22.0, 21.0, 20.0, 19.0, 18.0, 17.0, 16.0, 15.0, 14.0, 13.0, 12.0, 11.0, 10.0, 9.0, 8.0, 7.0, 6.0, 5.0, 4.0, 3.0, 2.0, 1.0, -5.041800022125244, -5.042200088500977, -5.042600154876709, -5.303100109100342, -5.303699970245361, -5.303800106048584, -5.303899765014648, -5.310800075531006, -5.658400058746338, -5.65939998626709, -5.6595001220703125, -5.659599781036377, -5.659800052642822, -5.659800052642822, -5.659800052642822, -5.659900188446045, -5.660099983215332, -5.660099983215332, -5.660200119018555, -5.660299777984619, -5.660399913787842, -5.660699844360352, -5.660699844360352, -5.660600185394287, -5.660699844360352, -5.660699844360352, -5.660699844360352, -5.660900115966797, -5.660799980163574, -5.660999774932861, -3.918100118637085, -4.833899974822998, -5.041100025177002, -4.834000110626221, -4.662700176239014, -5.304800033569336, -5.307000160217285, -4.3927998542785645, -5.302499771118164, -5.302599906921387, -5.303400039672852, -4.385499954223633, -5.304900169372559, -5.305699825286865, -4.663000106811523, -5.3003997802734375, -5.301700115203857, -5.305699825286865, -5.30679988861084, -5.035900115966797, -5.037199974060059, -5.305300235748291, -5.302700042724609, -4.655799865722656, -4.864799976348877, -4.865699768066406, -5.126699924468994, -5.4822001457214355, -5.482399940490723, -5.482999801635742, -5.48360013961792, -5.484099864959717, -5.484300136566162, -5.48390007019043, -5.484099864959717, -5.484399795532227, -5.484399795532227, -5.4857001304626465, -4.650599956512451, -4.655300140380859, -4.656000137329102, -5.127299785614014, -6.041200160980225, -6.041399955749512, -6.041399955749512, -6.041600227355957, -6.041500091552734, -6.0416998863220215, -6.041500091552734, -6.041600227355957, -6.041600227355957, -6.041600227355957, -6.041800022125244, -4.657700061798096, -5.123300075531006, -5.1255998611450195, -5.126299858093262, -5.126299858093262, -5.127200126647949, -5.1280999183654785, -4.865499973297119, -4.339099884033203, -5.4832000732421875, -5.4832000732421875, -4.862299919128418, -4.484600067138672, -4.330599784851074, -5.126399993896484, -5.126800060272217, -5.127900123596191, -4.858799934387207, -5.126200199127197, -5.126999855041504, -5.12529993057251, -5.124199867248535, -5.123799800872803, -5.47629976272583, -5.474800109863281, -3.7904999256134033, -4.55709981918335, -4.818900108337402, -4.820000171661377, -4.8206000328063965, -5.174200057983398, -5.174200057983398, -5.174799919128418, -5.17519998550415, -5.177499771118164, -4.818999767303467, -4.819499969482422, -5.733799934387207, -5.733799934387207, -5.733799934387207, -5.733799934387207, -5.733799934387207, -5.733799934387207, -5.733799934387207, -5.733799934387207, -5.733799934387207, -5.733799934387207, -5.733799934387207, -5.733799934387207, -5.733799934387207, -5.733799934387207, -5.733799934387207, -5.733799934387207, -5.733799934387207, -5.73390007019043, -4.818600177764893, -4.177599906921387, -3.687000036239624, -4.81879997253418, -5.175899982452393, -5.176400184631348, -5.174099922180176, -5.175000190734863, -4.344200134277344, -5.171599864959717, -5.173399925231934, -5.170899868011475, -5.174799919128418, -5.172399997711182, -5.170899868011475, -5.713399887084961, -5.723700046539307, -5.725100040435791], \"loglift\": [30.0, 29.0, 28.0, 27.0, 26.0, 25.0, 24.0, 23.0, 22.0, 21.0, 20.0, 19.0, 18.0, 17.0, 16.0, 15.0, 14.0, 13.0, 12.0, 11.0, 10.0, 9.0, 8.0, 7.0, 6.0, 5.0, 4.0, 3.0, 2.0, 1.0, 0.6797000169754028, 0.6794999837875366, 0.679099977016449, 0.6471999883651733, 0.6466000080108643, 0.6466000080108643, 0.6464999914169312, 0.6399999856948853, 0.5888000130653381, 0.5879999995231628, 0.5878999829292297, 0.5878000259399414, 0.5877000093460083, 0.5875999927520752, 0.5875999927520752, 0.5875999927520752, 0.5874000191688538, 0.5873000025749207, 0.5873000025749207, 0.5871999859809875, 0.5871999859809875, 0.586899995803833, 0.586899995803833, 0.586899995803833, 0.586899995803833, 0.586899995803833, 0.586899995803833, 0.5867999792098999, 0.5867999792098999, 0.5867999792098999, 0.5781000256538391, 0.582099974155426, 0.5078999996185303, 0.4293999969959259, 0.37880000472068787, 0.4697999954223633, 0.46779999136924744, 0.13819999992847443, 0.4352000057697296, 0.4350999891757965, 0.4345000088214874, 0.0210999995470047, 0.4332999885082245, 0.43209999799728394, 0.12250000238418579, 0.29260000586509705, 0.26080000400543213, 0.257099986076355, 0.25600001215934753, -0.15559999644756317, -0.20630000531673431, 0.1348000019788742, 0.004399999976158142, 0.9488000273704529, 0.9229999780654907, 0.9222000241279602, 0.8862000107765198, 0.8213000297546387, 0.8210999965667725, 0.8203999996185303, 0.8198999762535095, 0.8197000026702881, 0.8194000124931335, 0.8194000124931335, 0.8191999793052673, 0.819100022315979, 0.8188999891281128, 0.8179000020027161, 0.7871999740600586, 0.7825000286102295, 0.7814000248908997, 0.6992999911308289, 0.6735000014305115, 0.6733999848365784, 0.67330002784729, 0.67330002784729, 0.67330002784729, 0.6732000112533569, 0.6732000112533569, 0.6732000112533569, 0.6732000112533569, 0.6732000112533569, 0.6730999946594238, 0.6707000136375427, 0.6481999754905701, 0.6456000208854675, 0.6449000239372253, 0.644599974155426, 0.6437000036239624, 0.6428999900817871, 0.5992000102996826, 0.5412999987602234, 0.5787000060081482, 0.5782999992370605, 0.4555000066757202, 0.34630000591278076, 0.2003999948501587, 0.44999998807907104, 0.4496000111103058, 0.44830000400543213, 0.14110000431537628, 0.3662000000476837, 0.32510000467300415, 0.1817999929189682, -0.08269999921321869, -0.6276000142097473, 0.5156999826431274, 0.2800000011920929, 1.4871000051498413, 1.395400047302246, 1.3476999998092651, 1.3464000225067139, 1.3456000089645386, 1.2653000354766846, 1.2653000354766846, 1.2646000385284424, 1.26419997215271, 1.2613999843597412, 1.0896999835968018, 1.0892000198364258, 1.0817999839782715, 1.0817999839782715, 1.0817999839782715, 1.0817999839782715, 1.0817999839782715, 1.0817999839782715, 1.0817999839782715, 1.0817999839782715, 1.0817999839782715, 1.0817999839782715, 1.0817999839782715, 1.0817999839782715, 1.0817999839782715, 1.0817999839782715, 1.0817999839782715, 1.0817999839782715, 1.0817999839782715, 1.0817999839782715, 1.0709999799728394, 0.8222000002861023, 0.7196000218391418, 0.885200023651123, 0.9366999864578247, 0.9362000226974487, 0.9151999950408936, 0.9142000079154968, 0.44130000472068787, 0.6956999897956848, 0.6751999855041504, 0.6599000096321106, 0.6554999947547913, 0.32010000944137573, -0.3398999869823456, -1.1823999881744385, -0.258899986743927, 0.06700000166893005]}, \"token.table\": {\"Topic\": [3, 1, 1, 2, 3, 2, 2, 3, 3, 1, 2, 1, 3, 1, 2, 1, 2, 3, 1, 1, 2, 3, 1, 2, 3, 2, 3, 3, 2, 1, 2, 1, 2, 3, 2, 1, 3, 2, 1, 2, 3, 2, 3, 3, 3, 2, 3, 1, 3, 1, 2, 3, 1, 3, 1, 3, 1, 3, 1, 2, 1, 3, 2, 3, 1, 1, 3, 2, 2, 3, 1, 3, 1, 1, 1, 2, 1, 2, 1, 1, 2, 3, 2, 1, 2, 3, 1, 1, 2, 3, 2, 2, 2, 3, 1, 1, 2, 3, 1, 3, 2, 1, 2, 2, 3, 1, 1, 2, 1, 2, 1, 2, 3, 1, 1, 2, 3, 1, 1, 2, 1, 2, 3, 1, 2, 1, 1, 2, 2, 2, 1, 2, 3, 1, 2, 1, 3, 3, 1, 2, 3, 1, 1, 2, 3, 1, 2, 3, 1, 2, 2, 2, 1, 2, 2, 3, 1, 1, 2, 2, 2, 3, 1, 2, 2, 1, 2, 3, 2, 3, 3, 2, 2, 1, 3, 3, 1, 2, 1, 2, 1, 1, 2, 3, 1, 3, 1, 1, 2, 1, 3, 1, 1, 2, 3, 1, 2, 1, 2, 3, 1, 2, 3, 2, 1, 1, 2, 1, 1, 2, 3, 1, 2, 2, 3, 3, 3], \"Freq\": [0.8515334725379944, 0.9650318622589111, 0.3737105429172516, 0.7474210858345032, 0.8515347242355347, 0.7631483674049377, 0.5603563785552979, 0.5603563785552979, 0.5845345854759216, 0.4931968152523041, 0.4931968152523041, 0.601336658000946, 0.300668329000473, 0.2146976739168167, 0.8587906956672668, 0.3767596483230591, 0.3767596483230591, 0.18837982416152954, 0.9648526310920715, 0.2205643653869629, 0.6616930961608887, 0.2205643653869629, 0.5201895833015442, 0.4334912896156311, 0.0866982564330101, 0.6334000825881958, 0.3167000412940979, 0.851534903049469, 0.7698165774345398, 0.48656874895095825, 0.48656874895095825, 0.5795412659645081, 0.28977063298225403, 0.8515341877937317, 0.769810140132904, 0.9651212692260742, 0.8515337705612183, 1.0206263065338135, 0.7172252535820007, 0.343830406665802, 0.687660813331604, 0.7698106169700623, 0.7183711528778076, 0.8515336513519287, 0.889590859413147, 1.0207756757736206, 0.584617018699646, 0.9649838209152222, 0.8897258043289185, 0.4356028139591217, 0.4356028139591217, 0.21780140697956085, 0.840245246887207, 0.21006131172180176, 0.33730554580688477, 0.6746110916137695, 0.9649904370307922, 0.8515340685844421, 0.4932066798210144, 0.4932066798210144, 0.7168599963188171, 0.8515350222587585, 0.9140085577964783, 0.8515334725379944, 0.9649860262870789, 0.9648759365081787, 0.8515344262123108, 0.7699539065361023, 0.7699628472328186, 0.8515340685844421, 0.6014513373374939, 0.30072566866874695, 0.7168112397193909, 0.8553276658058167, 0.7222520112991333, 0.28890079259872437, 0.9646171927452087, 1.014674186706543, 0.9648364186286926, 0.719801664352417, 0.23993389308452606, 0.584618330001831, 1.02033531665802, 0.13854800164699554, 0.4156440198421478, 0.4156440198421478, 0.9648209810256958, 0.351059228181839, 0.46807897090911865, 0.11701974272727966, 1.0206985473632812, 0.7698134779930115, 1.0203242301940918, 0.8515334725379944, 0.9650369882583618, 0.29972854256629944, 0.5994570851325989, 0.5845013856887817, 0.4118182361125946, 0.4118182361125946, 1.0203016996383667, 0.21460264921188354, 0.8584105968475342, 0.42156359553337097, 0.42156359553337097, 0.9649264216423035, 0.8373039364814758, 0.16746078431606293, 0.9648585915565491, 0.7699457406997681, 0.36882641911506653, 0.6147106885910034, 0.8515335917472839, 0.9649709463119507, 0.29957666993141174, 0.5991533398628235, 0.8515334725379944, 0.9649533629417419, 0.4865324795246124, 0.4865324795246124, 0.2267438918352127, 0.4534877836704254, 0.2267438918352127, 0.2995808720588684, 0.5991617441177368, 0.9651254415512085, 0.5796269774436951, 0.28981348872184753, 0.769806981086731, 1.0204832553863525, 0.3808431327342987, 0.5712647438049316, 0.19042156636714935, 0.5798409581184387, 0.28992047905921936, 0.4118700623512268, 0.4118700623512268, 0.8515340685844421, 0.45929720997810364, 0.15309907495975494, 0.45929720997810364, 0.7168768644332886, 0.19243395328521729, 0.7697358131408691, 0.19243395328521729, 0.6119723320007324, 0.3059861660003662, 0.3059861660003662, 0.21468941867351532, 0.8587576746940613, 0.7698047757148743, 1.0204923152923584, 0.2995884120464325, 0.599176824092865, 0.8011348843574524, 0.4005674421787262, 0.9649987816810608, 0.4864315390586853, 0.4864315390586853, 1.0204393863677979, 0.8014099597930908, 0.4007049798965454, 0.29963332414627075, 0.5992666482925415, 0.7698016166687012, 0.43038803339004517, 0.43038803339004517, 0.21519401669502258, 0.6597412824630737, 0.32987064123153687, 0.8515347242355347, 1.0204176902770996, 1.0204877853393555, 0.6360973119735718, 0.3180486559867859, 0.5842342972755432, 0.5795437693595886, 0.2897718846797943, 0.721308171749115, 0.3606540858745575, 0.8554765582084656, 0.32375192642211914, 0.32375192642211914, 0.32375192642211914, 0.6357570886611938, 0.3178785443305969, 0.9648377299308777, 0.2996562719345093, 0.5993125438690186, 0.855572521686554, 0.8515353798866272, 0.9648668169975281, 0.5014887452125549, 0.25074437260627747, 0.25074437260627747, 0.5796809792518616, 0.2898404896259308, 0.5895261168479919, 0.5895261168479919, 0.9145280718803406, 0.5590981245040894, 0.22363924980163574, 0.3354588747024536, 0.7698700428009033, 0.7168594002723694, 0.4931488037109375, 0.4931488037109375, 0.9648489356040955, 0.9648221135139465, 0.42157214879989624, 0.42157214879989624, 0.9649274349212646, 0.9140264987945557, 0.3437930643558502, 0.6875861287117004, 0.8515339493751526, 0.8899363875389099], \"Term\": [\"ability\", \"alkyl\", \"also\", \"also\", \"appear\", \"application\", \"approach\", \"approach\", \"aqueous\", \"area\", \"area\", \"assemble\", \"assemble\", \"assembly\", \"assembly\", \"base\", \"base\", \"base\", \"bear\", \"bond\", \"bond\", \"bond\", \"cage\", \"cage\", \"cage\", \"carbon\", \"carbon\", \"carceplexe\", \"careful\", \"catenane\", \"catenane\", \"chain\", \"chain\", \"change\", \"choice\", \"clip\", \"color\", \"component\", \"computation\", \"condition\", \"condition\", \"conformational\", \"conjugate\", \"constrictive\", \"contamination\", \"coordination\", \"copper\", \"correspond\", \"cost\", \"covalent\", \"covalent\", \"covalent\", \"crystal\", \"crystal\", \"demonstrate\", \"demonstrate\", \"derive\", \"dimension\", \"dimensional\", \"dimensional\", \"discrete\", \"dissociation\", \"dope\", \"draw\", \"due\", \"efficient\", \"enough\", \"environment\", \"evidence\", \"exemplify\", \"experiment\", \"experiment\", \"fluorescent\", \"form\", \"formation\", \"formation\", \"framework\", \"geometry\", \"give\", \"group\", \"group\", \"hemicarcerand\", \"heteroatom\", \"high\", \"high\", \"high\", \"highly\", \"imine\", \"imine\", \"imine\", \"include\", \"indeed\", \"indicate\", \"inhibit\", \"insoluble\", \"interlock\", \"interlock\", \"isolation\", \"large\", \"large\", \"least\", \"link\", \"link\", \"little\", \"little\", \"long\", \"macrocycle\", \"macrocycle\", \"macrocyclic\", \"mass\", \"material\", \"material\", \"medium\", \"mesogen\", \"method\", \"method\", \"modeling\", \"moiety\", \"molecule\", \"molecule\", \"monomer\", \"monomer\", \"monomer\", \"multiple\", \"multiple\", \"nature\", \"new\", \"new\", \"number\", \"often\", \"organic\", \"organic\", \"organic\", \"part\", \"part\", \"perform\", \"perform\", \"permit\", \"polymer\", \"polymer\", \"polymer\", \"polymerization\", \"porous\", \"porous\", \"porous\", \"pot\", \"pot\", \"pot\", \"precursor\", \"precursor\", \"preorganization\", \"preparation\", \"prepare\", \"prepare\", \"present\", \"present\", \"probe\", \"process\", \"process\", \"promising\", \"provide\", \"provide\", \"quality\", \"quality\", \"react\", \"reaction\", \"reaction\", \"reaction\", \"report\", \"report\", \"response\", \"result\", \"rigidity\", \"selectivity\", \"selectivity\", \"separation\", \"shape\", \"shape\", \"show\", \"show\", \"side\", \"simple\", \"simple\", \"simple\", \"single\", \"single\", \"solution\", \"stable\", \"stable\", \"stack\", \"sterically\", \"stm\", \"structure\", \"structure\", \"structure\", \"study\", \"study\", \"supramolecular\", \"supramolecular\", \"swnt\", \"synthesis\", \"synthesis\", \"synthesis\", \"synthesizing\", \"temperature\", \"template\", \"template\", \"thermal\", \"thus\", \"time\", \"time\", \"triphenylamine\", \"unit\", \"use\", \"use\", \"utility\", \"yield\"]}, \"R\": 30, \"lambda.step\": 0.01, \"plot.opts\": {\"xlab\": \"PC1\", \"ylab\": \"PC2\"}, \"topic.order\": [2, 3, 1]};\n",
       "\n",
       "function LDAvis_load_lib(url, callback){\n",
       "  var s = document.createElement('script');\n",
       "  s.src = url;\n",
       "  s.async = true;\n",
       "  s.onreadystatechange = s.onload = callback;\n",
       "  s.onerror = function(){console.warn(\"failed to load library \" + url);};\n",
       "  document.getElementsByTagName(\"head\")[0].appendChild(s);\n",
       "}\n",
       "\n",
       "if(typeof(LDAvis) !== \"undefined\"){\n",
       "   // already loaded: just create the visualization\n",
       "   !function(LDAvis){\n",
       "       new LDAvis(\"#\" + \"ldavis_el1388413999471913685584215164\", ldavis_el1388413999471913685584215164_data);\n",
       "   }(LDAvis);\n",
       "}else if(typeof define === \"function\" && define.amd){\n",
       "   // require.js is available: use it to load d3/LDAvis\n",
       "   require.config({paths: {d3: \"https://cdnjs.cloudflare.com/ajax/libs/d3/3.5.5/d3.min\"}});\n",
       "   require([\"d3\"], function(d3){\n",
       "      window.d3 = d3;\n",
       "      LDAvis_load_lib(\"https://cdn.rawgit.com/bmabey/pyLDAvis/files/ldavis.v1.0.0.js\", function(){\n",
       "        new LDAvis(\"#\" + \"ldavis_el1388413999471913685584215164\", ldavis_el1388413999471913685584215164_data);\n",
       "      });\n",
       "    });\n",
       "}else{\n",
       "    // require.js not available: dynamically load d3 & LDAvis\n",
       "    LDAvis_load_lib(\"https://cdnjs.cloudflare.com/ajax/libs/d3/3.5.5/d3.min.js\", function(){\n",
       "         LDAvis_load_lib(\"https://cdn.rawgit.com/bmabey/pyLDAvis/files/ldavis.v1.0.0.js\", function(){\n",
       "                 new LDAvis(\"#\" + \"ldavis_el1388413999471913685584215164\", ldavis_el1388413999471913685584215164_data);\n",
       "            })\n",
       "         });\n",
       "}\n",
       "</script>"
      ],
      "text/plain": [
       "PreparedData(topic_coordinates=              x         y  topics  cluster       Freq\n",
       "topic                                                \n",
       "1     -0.051080  0.078443       1        1  44.814514\n",
       "2     -0.047887 -0.080149       2        1  34.551373\n",
       "0      0.098967  0.001706       3        1  20.634113, topic_info=           Term       Freq      Total Category  logprob  loglift\n",
       "550        swnt   5.000000   5.000000  Default  30.0000  30.0000\n",
       "431     polymer  13.000000  13.000000  Default  29.0000  29.0000\n",
       "93         high   7.000000   7.000000  Default  28.0000  28.0000\n",
       "525   conjugate   2.000000   2.000000  Default  27.0000  27.0000\n",
       "293  macrocycle  11.000000  11.000000  Default  26.0000  26.0000\n",
       "..          ...        ...        ...      ...      ...      ...\n",
       "239     monomer   1.253281   4.410262   Topic3  -5.1724   0.3201\n",
       "43        imine   1.255170   8.545567   Topic3  -5.1709  -0.3399\n",
       "4          cage   0.729563  11.534257   Topic3  -5.7134  -1.1824\n",
       "27         bond   0.722113   4.533824   Topic3  -5.7237  -0.2589\n",
       "108         pot   0.721068   3.268122   Topic3  -5.7251   0.0670\n",
       "\n",
       "[186 rows x 6 columns], token_table=      Topic      Freq     Term\n",
       "term                          \n",
       "553       3  0.851533  ability\n",
       "461       1  0.965032    alkyl\n",
       "68        1  0.373711     also\n",
       "68        2  0.747421     also\n",
       "146       3  0.851535   appear\n",
       "...     ...       ...      ...\n",
       "206       2  0.914026     unit\n",
       "456       2  0.343793      use\n",
       "456       3  0.687586      use\n",
       "569       3  0.851534  utility\n",
       "459       3  0.889936    yield\n",
       "\n",
       "[217 rows x 3 columns], R=30, lambda_step=0.01, plot_opts={'xlab': 'PC1', 'ylab': 'PC2'}, topic_order=[2, 3, 1])"
      ]
     },
     "execution_count": 26,
     "metadata": {},
     "output_type": "execute_result"
    }
   ],
   "source": [
    "pyLDAvis.enable_notebook()\n",
    "vis = pyLDAvis.gensim.prepare(lda_model, corpus, id2word)\n",
    "vis"
   ]
  },
  {
   "cell_type": "code",
   "execution_count": 55,
   "metadata": {},
   "outputs": [],
   "source": [
    "pyLDAvis.save_html(vis, 'lda.html')\n"
   ]
  },
  {
   "cell_type": "code",
   "execution_count": 34,
   "metadata": {},
   "outputs": [
    {
     "data": {
      "text/plain": [
       "[(0,\n",
       "  '0.025*\"polymer\" + 0.023*\"swnt\" + 0.015*\"high\" + 0.013*\"synthesis\" + 0.010*\"conjugate\" + 0.008*\"demonstrate\" + 0.008*\"approach\" + 0.008*\"yield\" + 0.008*\"condition\" + 0.008*\"use\"'),\n",
       " (1,\n",
       "  '0.020*\"macrocycle\" + 0.012*\"polymer\" + 0.012*\"cage\" + 0.009*\"formation\" + 0.009*\"synthesis\" + 0.008*\"crystal\" + 0.008*\"show\" + 0.007*\"material\" + 0.006*\"imine\" + 0.006*\"group\"'),\n",
       " (2,\n",
       "  '0.013*\"cage\" + 0.013*\"material\" + 0.011*\"imine\" + 0.010*\"precursor\" + 0.010*\"assembly\" + 0.010*\"geometry\" + 0.010*\"link\" + 0.009*\"porous\" + 0.008*\"high\" + 0.008*\"organic\"')]"
      ]
     },
     "execution_count": 34,
     "metadata": {},
     "output_type": "execute_result"
    }
   ],
   "source": [
    "lda_model.show_topics()"
   ]
  },
  {
   "cell_type": "code",
   "execution_count": 47,
   "metadata": {},
   "outputs": [
    {
     "ename": "IndexError",
     "evalue": "list index out of range",
     "output_type": "error",
     "traceback": [
      "\u001b[1;31m---------------------------------------------------------------------------\u001b[0m",
      "\u001b[1;31mIndexError\u001b[0m                                Traceback (most recent call last)",
      "\u001b[1;32m<ipython-input-47-f2c1e78337ad>\u001b[0m in \u001b[0;36m<module>\u001b[1;34m\u001b[0m\n\u001b[0;32m     22\u001b[0m \u001b[1;33m\u001b[0m\u001b[0m\n\u001b[0;32m     23\u001b[0m \u001b[1;33m\u001b[0m\u001b[0m\n\u001b[1;32m---> 24\u001b[1;33m \u001b[0mdf_topic_sents_keywords\u001b[0m \u001b[1;33m=\u001b[0m \u001b[0mformat_topics_sentences\u001b[0m\u001b[1;33m(\u001b[0m\u001b[0mldamodel\u001b[0m\u001b[1;33m=\u001b[0m\u001b[0mlda_model\u001b[0m\u001b[1;33m,\u001b[0m \u001b[0mcorpus\u001b[0m\u001b[1;33m=\u001b[0m\u001b[0mcorpus\u001b[0m\u001b[1;33m,\u001b[0m \u001b[0mtexts\u001b[0m\u001b[1;33m=\u001b[0m\u001b[0mdata\u001b[0m\u001b[1;33m)\u001b[0m\u001b[1;33m\u001b[0m\u001b[1;33m\u001b[0m\u001b[0m\n\u001b[0m\u001b[0;32m     25\u001b[0m \u001b[1;33m\u001b[0m\u001b[0m\n\u001b[0;32m     26\u001b[0m \u001b[1;31m# Format\u001b[0m\u001b[1;33m\u001b[0m\u001b[1;33m\u001b[0m\u001b[1;33m\u001b[0m\u001b[0m\n",
      "\u001b[1;32m<ipython-input-47-f2c1e78337ad>\u001b[0m in \u001b[0;36mformat_topics_sentences\u001b[1;34m(ldamodel, corpus, texts)\u001b[0m\n\u001b[0;32m      5\u001b[0m     \u001b[1;31m# Get main topic in each document\u001b[0m\u001b[1;33m\u001b[0m\u001b[1;33m\u001b[0m\u001b[1;33m\u001b[0m\u001b[0m\n\u001b[0;32m      6\u001b[0m     \u001b[1;32mfor\u001b[0m \u001b[0mi\u001b[0m\u001b[1;33m,\u001b[0m \u001b[0mrow\u001b[0m \u001b[1;32min\u001b[0m \u001b[0menumerate\u001b[0m\u001b[1;33m(\u001b[0m\u001b[0mldamodel\u001b[0m\u001b[1;33m[\u001b[0m\u001b[0mcorpus\u001b[0m\u001b[1;33m]\u001b[0m\u001b[1;33m)\u001b[0m\u001b[1;33m:\u001b[0m\u001b[1;33m\u001b[0m\u001b[1;33m\u001b[0m\u001b[0m\n\u001b[1;32m----> 7\u001b[1;33m         \u001b[0mrow\u001b[0m \u001b[1;33m=\u001b[0m \u001b[0msorted\u001b[0m\u001b[1;33m(\u001b[0m\u001b[0mrow\u001b[0m\u001b[1;33m,\u001b[0m \u001b[0mkey\u001b[0m\u001b[1;33m=\u001b[0m\u001b[1;32mlambda\u001b[0m \u001b[0mx\u001b[0m\u001b[1;33m:\u001b[0m \u001b[1;33m(\u001b[0m\u001b[0mx\u001b[0m\u001b[1;33m[\u001b[0m\u001b[1;36m1\u001b[0m\u001b[1;33m]\u001b[0m\u001b[1;33m)\u001b[0m\u001b[1;33m,\u001b[0m \u001b[0mreverse\u001b[0m\u001b[1;33m=\u001b[0m\u001b[1;32mTrue\u001b[0m\u001b[1;33m)\u001b[0m\u001b[1;33m\u001b[0m\u001b[1;33m\u001b[0m\u001b[0m\n\u001b[0m\u001b[0;32m      8\u001b[0m         \u001b[1;31m# Get the Dominant topic, Perc Contribution and Keywords for each document\u001b[0m\u001b[1;33m\u001b[0m\u001b[1;33m\u001b[0m\u001b[1;33m\u001b[0m\u001b[0m\n\u001b[0;32m      9\u001b[0m         \u001b[1;32mfor\u001b[0m \u001b[0mj\u001b[0m\u001b[1;33m,\u001b[0m \u001b[1;33m(\u001b[0m\u001b[0mtopic_num\u001b[0m\u001b[1;33m,\u001b[0m \u001b[0mprop_topic\u001b[0m\u001b[1;33m)\u001b[0m \u001b[1;32min\u001b[0m \u001b[0menumerate\u001b[0m\u001b[1;33m(\u001b[0m\u001b[0mrow\u001b[0m\u001b[1;33m)\u001b[0m\u001b[1;33m:\u001b[0m\u001b[1;33m\u001b[0m\u001b[1;33m\u001b[0m\u001b[0m\n",
      "\u001b[1;32m<ipython-input-47-f2c1e78337ad>\u001b[0m in \u001b[0;36m<lambda>\u001b[1;34m(x)\u001b[0m\n\u001b[0;32m      5\u001b[0m     \u001b[1;31m# Get main topic in each document\u001b[0m\u001b[1;33m\u001b[0m\u001b[1;33m\u001b[0m\u001b[1;33m\u001b[0m\u001b[0m\n\u001b[0;32m      6\u001b[0m     \u001b[1;32mfor\u001b[0m \u001b[0mi\u001b[0m\u001b[1;33m,\u001b[0m \u001b[0mrow\u001b[0m \u001b[1;32min\u001b[0m \u001b[0menumerate\u001b[0m\u001b[1;33m(\u001b[0m\u001b[0mldamodel\u001b[0m\u001b[1;33m[\u001b[0m\u001b[0mcorpus\u001b[0m\u001b[1;33m]\u001b[0m\u001b[1;33m)\u001b[0m\u001b[1;33m:\u001b[0m\u001b[1;33m\u001b[0m\u001b[1;33m\u001b[0m\u001b[0m\n\u001b[1;32m----> 7\u001b[1;33m         \u001b[0mrow\u001b[0m \u001b[1;33m=\u001b[0m \u001b[0msorted\u001b[0m\u001b[1;33m(\u001b[0m\u001b[0mrow\u001b[0m\u001b[1;33m,\u001b[0m \u001b[0mkey\u001b[0m\u001b[1;33m=\u001b[0m\u001b[1;32mlambda\u001b[0m \u001b[0mx\u001b[0m\u001b[1;33m:\u001b[0m \u001b[1;33m(\u001b[0m\u001b[0mx\u001b[0m\u001b[1;33m[\u001b[0m\u001b[1;36m1\u001b[0m\u001b[1;33m]\u001b[0m\u001b[1;33m)\u001b[0m\u001b[1;33m,\u001b[0m \u001b[0mreverse\u001b[0m\u001b[1;33m=\u001b[0m\u001b[1;32mTrue\u001b[0m\u001b[1;33m)\u001b[0m\u001b[1;33m\u001b[0m\u001b[1;33m\u001b[0m\u001b[0m\n\u001b[0m\u001b[0;32m      8\u001b[0m         \u001b[1;31m# Get the Dominant topic, Perc Contribution and Keywords for each document\u001b[0m\u001b[1;33m\u001b[0m\u001b[1;33m\u001b[0m\u001b[1;33m\u001b[0m\u001b[0m\n\u001b[0;32m      9\u001b[0m         \u001b[1;32mfor\u001b[0m \u001b[0mj\u001b[0m\u001b[1;33m,\u001b[0m \u001b[1;33m(\u001b[0m\u001b[0mtopic_num\u001b[0m\u001b[1;33m,\u001b[0m \u001b[0mprop_topic\u001b[0m\u001b[1;33m)\u001b[0m \u001b[1;32min\u001b[0m \u001b[0menumerate\u001b[0m\u001b[1;33m(\u001b[0m\u001b[0mrow\u001b[0m\u001b[1;33m)\u001b[0m\u001b[1;33m:\u001b[0m\u001b[1;33m\u001b[0m\u001b[1;33m\u001b[0m\u001b[0m\n",
      "\u001b[1;31mIndexError\u001b[0m: list index out of range"
     ]
    }
   ],
   "source": [
    "def format_topics_sentences(ldamodel=lda_model, corpus=corpus, texts=data):\n",
    "    # Init output\n",
    "    sent_topics_df = pd.DataFrame()\n",
    "\n",
    "    # Get main topic in each document\n",
    "    for i, row in enumerate(ldamodel[corpus]):\n",
    "        row = sorted(row, key=lambda x: (x[1]), reverse=True)\n",
    "        # Get the Dominant topic, Perc Contribution and Keywords for each document\n",
    "        for j, (topic_num, prop_topic) in enumerate(row):\n",
    "            if j == 0:  # => dominant topic\n",
    "                wp = ldamodel.show_topic(topic_num)\n",
    "                topic_keywords = \", \".join([word for word, prop in wp])\n",
    "                sent_topics_df = sent_topics_df.append(pd.Series([int(topic_num), round(prop_topic,4), topic_keywords]), ignore_index=True)\n",
    "            else:\n",
    "                break\n",
    "    sent_topics_df.columns = ['Dominant_Topic', 'Perc_Contribution', 'Topic_Keywords']\n",
    "\n",
    "    # Add original text to the end of the output\n",
    "    contents = pd.Series(texts)\n",
    "    sent_topics_df = pd.concat([sent_topics_df, contents], axis=1)\n",
    "    return(sent_topics_df)\n",
    "\n",
    "\n",
    "df_topic_sents_keywords = format_topics_sentences(ldamodel=lda_model, corpus=corpus, texts=data)\n",
    "\n",
    "# Format\n",
    "df_dominant_topic = df_topic_sents_keywords.reset_index()\n",
    "df_dominant_topic.columns = ['Document_No', 'Dominant_Topic', 'Topic_Perc_Contrib', 'Keywords', 'Text']\n",
    "\n",
    "# Show\n",
    "df_dominant_topic.head(10)"
   ]
  },
  {
   "cell_type": "code",
   "execution_count": 49,
   "metadata": {},
   "outputs": [
    {
     "data": {
      "text/plain": [
       "[('polymer', 0.025048088),\n",
       " ('swnt', 0.022585034),\n",
       " ('high', 0.015334685),\n",
       " ('synthesis', 0.012981965),\n",
       " ('conjugate', 0.010492758),\n",
       " ('demonstrate', 0.008078129),\n",
       " ('approach', 0.008076609),\n",
       " ('yield', 0.008076005),\n",
       " ('condition', 0.008074787),\n",
       " ('use', 0.008071121)]"
      ]
     },
     "execution_count": 49,
     "metadata": {},
     "output_type": "execute_result"
    }
   ],
   "source": [
    "lda_model.show_topic(0)"
   ]
  },
  {
   "cell_type": "code",
   "execution_count": 54,
   "metadata": {},
   "outputs": [
    {
     "data": {
      "text/plain": [
       "([(2, 0.99852234)],\n",
       " [(4, [2]),\n",
       "  (24, [2]),\n",
       "  (25, [2]),\n",
       "  (26, [2]),\n",
       "  (27, [2]),\n",
       "  (28, [2]),\n",
       "  (29, [2]),\n",
       "  (30, [2]),\n",
       "  (31, [2]),\n",
       "  (32, [2]),\n",
       "  (33, [2]),\n",
       "  (34, [2]),\n",
       "  (35, [2]),\n",
       "  (36, [2]),\n",
       "  (37, [2]),\n",
       "  (38, [2]),\n",
       "  (39, [2]),\n",
       "  (40, [2]),\n",
       "  (41, [2]),\n",
       "  (42, [2]),\n",
       "  (43, [2]),\n",
       "  (44, [2]),\n",
       "  (45, [2]),\n",
       "  (46, [2]),\n",
       "  (47, [2]),\n",
       "  (48, [2]),\n",
       "  (49, [2]),\n",
       "  (50, [2]),\n",
       "  (51, [2]),\n",
       "  (52, [2]),\n",
       "  (53, [2]),\n",
       "  (54, [2]),\n",
       "  (55, [2]),\n",
       "  (56, [2]),\n",
       "  (57, [2]),\n",
       "  (58, [2]),\n",
       "  (59, [2]),\n",
       "  (60, [2]),\n",
       "  (61, [2]),\n",
       "  (62, [2]),\n",
       "  (63, [2]),\n",
       "  (64, [2]),\n",
       "  (65, [2]),\n",
       "  (66, [2]),\n",
       "  (67, [2])],\n",
       " [(4, [(2, 2.999971)]),\n",
       "  (24, [(2, 0.9999236)]),\n",
       "  (25, [(2, 0.9999235)]),\n",
       "  (26, [(2, 0.9999765)]),\n",
       "  (27, [(2, 0.99998254)]),\n",
       "  (28, [(2, 0.9999236)]),\n",
       "  (29, [(2, 0.9999237)]),\n",
       "  (30, [(2, 0.99992365)]),\n",
       "  (31, [(2, 0.9999237)]),\n",
       "  (32, [(2, 0.99997646)]),\n",
       "  (33, [(2, 0.9999236)]),\n",
       "  (34, [(2, 0.99992526)]),\n",
       "  (35, [(2, 0.9999236)]),\n",
       "  (36, [(2, 0.99992365)]),\n",
       "  (37, [(2, 0.9999236)]),\n",
       "  (38, [(2, 0.99992365)]),\n",
       "  (39, [(2, 1.9999532)]),\n",
       "  (40, [(2, 0.99992365)]),\n",
       "  (41, [(2, 3.9999447)]),\n",
       "  (42, [(2, 0.99992365)]),\n",
       "  (43, [(2, 0.99998856)]),\n",
       "  (44, [(2, 0.9999237)]),\n",
       "  (45, [(2, 0.99992365)]),\n",
       "  (46, [(2, 0.999924)]),\n",
       "  (47, [(2, 0.99997646)]),\n",
       "  (48, [(2, 0.9999236)]),\n",
       "  (49, [(2, 0.9999639)]),\n",
       "  (50, [(2, 0.99998254)]),\n",
       "  (51, [(2, 0.99992526)]),\n",
       "  (52, [(2, 0.99992365)]),\n",
       "  (53, [(2, 3.9999447)]),\n",
       "  (54, [(2, 0.9999237)]),\n",
       "  (55, [(2, 0.99992365)]),\n",
       "  (56, [(2, 0.99996406)]),\n",
       "  (57, [(2, 0.99992365)]),\n",
       "  (58, [(2, 0.99992365)]),\n",
       "  (59, [(2, 0.9999639)]),\n",
       "  (60, [(2, 1.9999279)]),\n",
       "  (61, [(2, 0.9999236)]),\n",
       "  (62, [(2, 1.9999279)]),\n",
       "  (63, [(2, 0.99992365)]),\n",
       "  (64, [(2, 0.999964)]),\n",
       "  (65, [(2, 0.9999638)]),\n",
       "  (66, [(2, 0.9999236)]),\n",
       "  (67, [(2, 0.9999236)])])"
      ]
     },
     "execution_count": 54,
     "metadata": {},
     "output_type": "execute_result"
    }
   ],
   "source": [
    "lda_model[corpus][1]"
   ]
  }
 ],
 "metadata": {
  "kernelspec": {
   "display_name": "my_py_env",
   "language": "python",
   "name": "my_py_env"
  },
  "language_info": {
   "codemirror_mode": {
    "name": "ipython",
    "version": 3
   },
   "file_extension": ".py",
   "mimetype": "text/x-python",
   "name": "python",
   "nbconvert_exporter": "python",
   "pygments_lexer": "ipython3",
   "version": "3.7.6"
  }
 },
 "nbformat": 4,
 "nbformat_minor": 4
}
